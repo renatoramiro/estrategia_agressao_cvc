{
  "nbformat": 4,
  "nbformat_minor": 0,
  "metadata": {
    "colab": {
      "name": "Estratégia Agressao CVC.ipynb",
      "provenance": [],
      "collapsed_sections": [],
      "authorship_tag": "ABX9TyMhwacNCx60GtoUArSKCo23",
      "include_colab_link": true
    },
    "kernelspec": {
      "name": "python3",
      "display_name": "Python 3"
    },
    "language_info": {
      "name": "python"
    }
  },
  "cells": [
    {
      "cell_type": "markdown",
      "metadata": {
        "id": "view-in-github",
        "colab_type": "text"
      },
      "source": [
        "<a href=\"https://colab.research.google.com/github/renatoramiro/estrategia_agressao_cvc/blob/main/Estrat%C3%A9gia_Agressao_CVC.ipynb\" target=\"_parent\"><img src=\"https://colab.research.google.com/assets/colab-badge.svg\" alt=\"Open In Colab\"/></a>"
      ]
    },
    {
      "cell_type": "code",
      "execution_count": 1,
      "metadata": {
        "id": "Qi-zDveJPaxO"
      },
      "outputs": [],
      "source": [
        "import pandas as pd\n",
        "import numpy as np\n",
        "import matplotlib.pyplot as plt\n",
        "\n",
        "# disable chained assignments\n",
        "pd.options.mode.chained_assignment = None "
      ]
    },
    {
      "cell_type": "markdown",
      "source": [
        "**Suposição**:\n",
        "\n",
        "Quando o preço está abaixo da média de 72 e temos uma agressão maior do que a média mais 1.5 desvios padrão, o preço fica acima ou abaixo da fechamento atual?"
      ],
      "metadata": {
        "id": "mQOetLkiUv_g"
      }
    },
    {
      "cell_type": "code",
      "source": [
        "mean = 72\n",
        "std = 1.5\n",
        "target = 3"
      ],
      "metadata": {
        "id": "lwbQ4WmnQ0Lu"
      },
      "execution_count": 2,
      "outputs": []
    },
    {
      "cell_type": "code",
      "source": [
        "data = pd.read_csv(r'/content/CVC_com_agressao_formatado.csv', index_col=['Date'])"
      ],
      "metadata": {
        "id": "aTFAVWPDPdbf"
      },
      "execution_count": 3,
      "outputs": []
    },
    {
      "cell_type": "code",
      "source": [
        "# Criação da Média\n",
        "data['SMA'] = data['Close'].rolling(mean).mean()\n",
        "\n",
        "# Criação do retorno\n",
        "data['Return'] = data['Close'].pct_change(target)#.shift(1)"
      ],
      "metadata": {
        "id": "eOfIHGLCQsjY"
      },
      "execution_count": 4,
      "outputs": []
    },
    {
      "cell_type": "code",
      "source": [
        "data.head()"
      ],
      "metadata": {
        "colab": {
          "base_uri": "https://localhost:8080/",
          "height": 238
        },
        "id": "SkO7B77HQrTL",
        "outputId": "53f28404-859e-4d5f-a05b-99de5e574cc9"
      },
      "execution_count": 5,
      "outputs": [
        {
          "output_type": "execute_result",
          "data": {
            "text/html": [
              "\n",
              "  <div id=\"df-39bacd9e-4a69-4d79-beed-cd31efe422e0\">\n",
              "    <div class=\"colab-df-container\">\n",
              "      <div>\n",
              "<style scoped>\n",
              "    .dataframe tbody tr th:only-of-type {\n",
              "        vertical-align: middle;\n",
              "    }\n",
              "\n",
              "    .dataframe tbody tr th {\n",
              "        vertical-align: top;\n",
              "    }\n",
              "\n",
              "    .dataframe thead th {\n",
              "        text-align: right;\n",
              "    }\n",
              "</style>\n",
              "<table border=\"1\" class=\"dataframe\">\n",
              "  <thead>\n",
              "    <tr style=\"text-align: right;\">\n",
              "      <th></th>\n",
              "      <th>Open</th>\n",
              "      <th>High</th>\n",
              "      <th>Low</th>\n",
              "      <th>Close</th>\n",
              "      <th>Agression</th>\n",
              "      <th>SMA</th>\n",
              "      <th>Return</th>\n",
              "    </tr>\n",
              "    <tr>\n",
              "      <th>Date</th>\n",
              "      <th></th>\n",
              "      <th></th>\n",
              "      <th></th>\n",
              "      <th></th>\n",
              "      <th></th>\n",
              "      <th></th>\n",
              "      <th></th>\n",
              "    </tr>\n",
              "  </thead>\n",
              "  <tbody>\n",
              "    <tr>\n",
              "      <th>2015-03-03</th>\n",
              "      <td>10.62</td>\n",
              "      <td>10.80</td>\n",
              "      <td>10.43</td>\n",
              "      <td>10.59</td>\n",
              "      <td>-40600.0</td>\n",
              "      <td>NaN</td>\n",
              "      <td>NaN</td>\n",
              "    </tr>\n",
              "    <tr>\n",
              "      <th>2015-03-04</th>\n",
              "      <td>10.50</td>\n",
              "      <td>10.73</td>\n",
              "      <td>10.46</td>\n",
              "      <td>10.73</td>\n",
              "      <td>-86500.0</td>\n",
              "      <td>NaN</td>\n",
              "      <td>NaN</td>\n",
              "    </tr>\n",
              "    <tr>\n",
              "      <th>2015-03-05</th>\n",
              "      <td>10.74</td>\n",
              "      <td>10.88</td>\n",
              "      <td>10.69</td>\n",
              "      <td>10.69</td>\n",
              "      <td>-15300.0</td>\n",
              "      <td>NaN</td>\n",
              "      <td>NaN</td>\n",
              "    </tr>\n",
              "    <tr>\n",
              "      <th>2015-03-06</th>\n",
              "      <td>10.67</td>\n",
              "      <td>10.68</td>\n",
              "      <td>10.40</td>\n",
              "      <td>10.62</td>\n",
              "      <td>-6600.0</td>\n",
              "      <td>NaN</td>\n",
              "      <td>0.002833</td>\n",
              "    </tr>\n",
              "    <tr>\n",
              "      <th>2015-03-09</th>\n",
              "      <td>10.59</td>\n",
              "      <td>10.59</td>\n",
              "      <td>10.13</td>\n",
              "      <td>10.27</td>\n",
              "      <td>-1026600.0</td>\n",
              "      <td>NaN</td>\n",
              "      <td>-0.042870</td>\n",
              "    </tr>\n",
              "  </tbody>\n",
              "</table>\n",
              "</div>\n",
              "      <button class=\"colab-df-convert\" onclick=\"convertToInteractive('df-39bacd9e-4a69-4d79-beed-cd31efe422e0')\"\n",
              "              title=\"Convert this dataframe to an interactive table.\"\n",
              "              style=\"display:none;\">\n",
              "        \n",
              "  <svg xmlns=\"http://www.w3.org/2000/svg\" height=\"24px\"viewBox=\"0 0 24 24\"\n",
              "       width=\"24px\">\n",
              "    <path d=\"M0 0h24v24H0V0z\" fill=\"none\"/>\n",
              "    <path d=\"M18.56 5.44l.94 2.06.94-2.06 2.06-.94-2.06-.94-.94-2.06-.94 2.06-2.06.94zm-11 1L8.5 8.5l.94-2.06 2.06-.94-2.06-.94L8.5 2.5l-.94 2.06-2.06.94zm10 10l.94 2.06.94-2.06 2.06-.94-2.06-.94-.94-2.06-.94 2.06-2.06.94z\"/><path d=\"M17.41 7.96l-1.37-1.37c-.4-.4-.92-.59-1.43-.59-.52 0-1.04.2-1.43.59L10.3 9.45l-7.72 7.72c-.78.78-.78 2.05 0 2.83L4 21.41c.39.39.9.59 1.41.59.51 0 1.02-.2 1.41-.59l7.78-7.78 2.81-2.81c.8-.78.8-2.07 0-2.86zM5.41 20L4 18.59l7.72-7.72 1.47 1.35L5.41 20z\"/>\n",
              "  </svg>\n",
              "      </button>\n",
              "      \n",
              "  <style>\n",
              "    .colab-df-container {\n",
              "      display:flex;\n",
              "      flex-wrap:wrap;\n",
              "      gap: 12px;\n",
              "    }\n",
              "\n",
              "    .colab-df-convert {\n",
              "      background-color: #E8F0FE;\n",
              "      border: none;\n",
              "      border-radius: 50%;\n",
              "      cursor: pointer;\n",
              "      display: none;\n",
              "      fill: #1967D2;\n",
              "      height: 32px;\n",
              "      padding: 0 0 0 0;\n",
              "      width: 32px;\n",
              "    }\n",
              "\n",
              "    .colab-df-convert:hover {\n",
              "      background-color: #E2EBFA;\n",
              "      box-shadow: 0px 1px 2px rgba(60, 64, 67, 0.3), 0px 1px 3px 1px rgba(60, 64, 67, 0.15);\n",
              "      fill: #174EA6;\n",
              "    }\n",
              "\n",
              "    [theme=dark] .colab-df-convert {\n",
              "      background-color: #3B4455;\n",
              "      fill: #D2E3FC;\n",
              "    }\n",
              "\n",
              "    [theme=dark] .colab-df-convert:hover {\n",
              "      background-color: #434B5C;\n",
              "      box-shadow: 0px 1px 3px 1px rgba(0, 0, 0, 0.15);\n",
              "      filter: drop-shadow(0px 1px 2px rgba(0, 0, 0, 0.3));\n",
              "      fill: #FFFFFF;\n",
              "    }\n",
              "  </style>\n",
              "\n",
              "      <script>\n",
              "        const buttonEl =\n",
              "          document.querySelector('#df-39bacd9e-4a69-4d79-beed-cd31efe422e0 button.colab-df-convert');\n",
              "        buttonEl.style.display =\n",
              "          google.colab.kernel.accessAllowed ? 'block' : 'none';\n",
              "\n",
              "        async function convertToInteractive(key) {\n",
              "          const element = document.querySelector('#df-39bacd9e-4a69-4d79-beed-cd31efe422e0');\n",
              "          const dataTable =\n",
              "            await google.colab.kernel.invokeFunction('convertToInteractive',\n",
              "                                                     [key], {});\n",
              "          if (!dataTable) return;\n",
              "\n",
              "          const docLinkHtml = 'Like what you see? Visit the ' +\n",
              "            '<a target=\"_blank\" href=https://colab.research.google.com/notebooks/data_table.ipynb>data table notebook</a>'\n",
              "            + ' to learn more about interactive tables.';\n",
              "          element.innerHTML = '';\n",
              "          dataTable['output_type'] = 'display_data';\n",
              "          await google.colab.output.renderOutput(dataTable, element);\n",
              "          const docLink = document.createElement('div');\n",
              "          docLink.innerHTML = docLinkHtml;\n",
              "          element.appendChild(docLink);\n",
              "        }\n",
              "      </script>\n",
              "    </div>\n",
              "  </div>\n",
              "  "
            ],
            "text/plain": [
              "             Open   High    Low  Close  Agression  SMA    Return\n",
              "Date                                                            \n",
              "2015-03-03  10.62  10.80  10.43  10.59   -40600.0  NaN       NaN\n",
              "2015-03-04  10.50  10.73  10.46  10.73   -86500.0  NaN       NaN\n",
              "2015-03-05  10.74  10.88  10.69  10.69   -15300.0  NaN       NaN\n",
              "2015-03-06  10.67  10.68  10.40  10.62    -6600.0  NaN  0.002833\n",
              "2015-03-09  10.59  10.59  10.13  10.27 -1026600.0  NaN -0.042870"
            ]
          },
          "metadata": {},
          "execution_count": 5
        }
      ]
    },
    {
      "cell_type": "code",
      "source": [
        "# Filtro para obter somente onde o saldo de agressão é negativo\n",
        "agression = data.loc[data['Agression'] < 0]\n",
        "\n",
        "agression['Agression'] = np.abs(agression['Agression'])\n",
        "\n",
        "agression['mean'] = agression['Agression'].rolling(mean).mean()\n",
        "agression['std'] = agression['Agression'].rolling(mean).std()"
      ],
      "metadata": {
        "id": "RzhdkkKCRAET"
      },
      "execution_count": 6,
      "outputs": []
    },
    {
      "cell_type": "code",
      "source": [
        "# Obter somente os dias com agressão maior do que media + n desvios padrões\n",
        "agression['agression_high'] = np.where(agression['Agression'] > (agression['mean'] + (std * agression['std'])), True, False)"
      ],
      "metadata": {
        "id": "UPQug5MVRLMZ"
      },
      "execution_count": 7,
      "outputs": []
    },
    {
      "cell_type": "code",
      "source": [
        "# Filtro para obter quando o preço está acima da média e a agressão é maior do que a média + n desvios padrões\n",
        "final = agression.loc[(agression['agression_high'] == True) & (agression['Close'] < agression['SMA'])]#.loc['2019':]"
      ],
      "metadata": {
        "id": "6wfhQR-GRZZa"
      },
      "execution_count": 8,
      "outputs": []
    },
    {
      "cell_type": "code",
      "source": [
        "# Ajuste nos retornos e soma acumulada\n",
        "final['Return'] = final['Return'] * -1\n",
        "final['cum'] = np.cumsum(final['Return'])"
      ],
      "metadata": {
        "id": "FxnljrT1RkWg"
      },
      "execution_count": 9,
      "outputs": []
    },
    {
      "cell_type": "code",
      "source": [
        "final.head()"
      ],
      "metadata": {
        "colab": {
          "base_uri": "https://localhost:8080/",
          "height": 238
        },
        "id": "os0tZhOgTuIi",
        "outputId": "e9fdbf39-fea4-4b3d-a18e-638c31d72852"
      },
      "execution_count": 10,
      "outputs": [
        {
          "output_type": "execute_result",
          "data": {
            "text/html": [
              "\n",
              "  <div id=\"df-142c388e-0494-40c3-9c48-e3250d383f93\">\n",
              "    <div class=\"colab-df-container\">\n",
              "      <div>\n",
              "<style scoped>\n",
              "    .dataframe tbody tr th:only-of-type {\n",
              "        vertical-align: middle;\n",
              "    }\n",
              "\n",
              "    .dataframe tbody tr th {\n",
              "        vertical-align: top;\n",
              "    }\n",
              "\n",
              "    .dataframe thead th {\n",
              "        text-align: right;\n",
              "    }\n",
              "</style>\n",
              "<table border=\"1\" class=\"dataframe\">\n",
              "  <thead>\n",
              "    <tr style=\"text-align: right;\">\n",
              "      <th></th>\n",
              "      <th>Open</th>\n",
              "      <th>High</th>\n",
              "      <th>Low</th>\n",
              "      <th>Close</th>\n",
              "      <th>Agression</th>\n",
              "      <th>SMA</th>\n",
              "      <th>Return</th>\n",
              "      <th>mean</th>\n",
              "      <th>std</th>\n",
              "      <th>agression_high</th>\n",
              "      <th>cum</th>\n",
              "    </tr>\n",
              "    <tr>\n",
              "      <th>Date</th>\n",
              "      <th></th>\n",
              "      <th></th>\n",
              "      <th></th>\n",
              "      <th></th>\n",
              "      <th></th>\n",
              "      <th></th>\n",
              "      <th></th>\n",
              "      <th></th>\n",
              "      <th></th>\n",
              "      <th></th>\n",
              "      <th></th>\n",
              "    </tr>\n",
              "  </thead>\n",
              "  <tbody>\n",
              "    <tr>\n",
              "      <th>2015-10-15</th>\n",
              "      <td>11.22</td>\n",
              "      <td>11.42</td>\n",
              "      <td>11.11</td>\n",
              "      <td>11.24</td>\n",
              "      <td>327500.0</td>\n",
              "      <td>13.104722</td>\n",
              "      <td>0.027682</td>\n",
              "      <td>52886.111111</td>\n",
              "      <td>71336.311804</td>\n",
              "      <td>True</td>\n",
              "      <td>0.027682</td>\n",
              "    </tr>\n",
              "    <tr>\n",
              "      <th>2015-10-30</th>\n",
              "      <td>11.32</td>\n",
              "      <td>11.54</td>\n",
              "      <td>11.11</td>\n",
              "      <td>11.40</td>\n",
              "      <td>281100.0</td>\n",
              "      <td>12.593611</td>\n",
              "      <td>-0.037307</td>\n",
              "      <td>57302.777778</td>\n",
              "      <td>76705.715255</td>\n",
              "      <td>True</td>\n",
              "      <td>-0.009625</td>\n",
              "    </tr>\n",
              "    <tr>\n",
              "      <th>2015-11-03</th>\n",
              "      <td>11.41</td>\n",
              "      <td>11.72</td>\n",
              "      <td>11.17</td>\n",
              "      <td>11.72</td>\n",
              "      <td>250700.0</td>\n",
              "      <td>12.542222</td>\n",
              "      <td>-0.028973</td>\n",
              "      <td>59036.111111</td>\n",
              "      <td>79631.901926</td>\n",
              "      <td>True</td>\n",
              "      <td>-0.038598</td>\n",
              "    </tr>\n",
              "    <tr>\n",
              "      <th>2015-11-23</th>\n",
              "      <td>11.26</td>\n",
              "      <td>11.52</td>\n",
              "      <td>11.17</td>\n",
              "      <td>11.32</td>\n",
              "      <td>173300.0</td>\n",
              "      <td>12.021667</td>\n",
              "      <td>-0.000000</td>\n",
              "      <td>55691.666667</td>\n",
              "      <td>76075.703123</td>\n",
              "      <td>True</td>\n",
              "      <td>-0.038598</td>\n",
              "    </tr>\n",
              "    <tr>\n",
              "      <th>2016-02-01</th>\n",
              "      <td>9.92</td>\n",
              "      <td>10.03</td>\n",
              "      <td>9.42</td>\n",
              "      <td>9.84</td>\n",
              "      <td>165600.0</td>\n",
              "      <td>10.677083</td>\n",
              "      <td>0.042802</td>\n",
              "      <td>55787.500000</td>\n",
              "      <td>71941.548922</td>\n",
              "      <td>True</td>\n",
              "      <td>0.004204</td>\n",
              "    </tr>\n",
              "  </tbody>\n",
              "</table>\n",
              "</div>\n",
              "      <button class=\"colab-df-convert\" onclick=\"convertToInteractive('df-142c388e-0494-40c3-9c48-e3250d383f93')\"\n",
              "              title=\"Convert this dataframe to an interactive table.\"\n",
              "              style=\"display:none;\">\n",
              "        \n",
              "  <svg xmlns=\"http://www.w3.org/2000/svg\" height=\"24px\"viewBox=\"0 0 24 24\"\n",
              "       width=\"24px\">\n",
              "    <path d=\"M0 0h24v24H0V0z\" fill=\"none\"/>\n",
              "    <path d=\"M18.56 5.44l.94 2.06.94-2.06 2.06-.94-2.06-.94-.94-2.06-.94 2.06-2.06.94zm-11 1L8.5 8.5l.94-2.06 2.06-.94-2.06-.94L8.5 2.5l-.94 2.06-2.06.94zm10 10l.94 2.06.94-2.06 2.06-.94-2.06-.94-.94-2.06-.94 2.06-2.06.94z\"/><path d=\"M17.41 7.96l-1.37-1.37c-.4-.4-.92-.59-1.43-.59-.52 0-1.04.2-1.43.59L10.3 9.45l-7.72 7.72c-.78.78-.78 2.05 0 2.83L4 21.41c.39.39.9.59 1.41.59.51 0 1.02-.2 1.41-.59l7.78-7.78 2.81-2.81c.8-.78.8-2.07 0-2.86zM5.41 20L4 18.59l7.72-7.72 1.47 1.35L5.41 20z\"/>\n",
              "  </svg>\n",
              "      </button>\n",
              "      \n",
              "  <style>\n",
              "    .colab-df-container {\n",
              "      display:flex;\n",
              "      flex-wrap:wrap;\n",
              "      gap: 12px;\n",
              "    }\n",
              "\n",
              "    .colab-df-convert {\n",
              "      background-color: #E8F0FE;\n",
              "      border: none;\n",
              "      border-radius: 50%;\n",
              "      cursor: pointer;\n",
              "      display: none;\n",
              "      fill: #1967D2;\n",
              "      height: 32px;\n",
              "      padding: 0 0 0 0;\n",
              "      width: 32px;\n",
              "    }\n",
              "\n",
              "    .colab-df-convert:hover {\n",
              "      background-color: #E2EBFA;\n",
              "      box-shadow: 0px 1px 2px rgba(60, 64, 67, 0.3), 0px 1px 3px 1px rgba(60, 64, 67, 0.15);\n",
              "      fill: #174EA6;\n",
              "    }\n",
              "\n",
              "    [theme=dark] .colab-df-convert {\n",
              "      background-color: #3B4455;\n",
              "      fill: #D2E3FC;\n",
              "    }\n",
              "\n",
              "    [theme=dark] .colab-df-convert:hover {\n",
              "      background-color: #434B5C;\n",
              "      box-shadow: 0px 1px 3px 1px rgba(0, 0, 0, 0.15);\n",
              "      filter: drop-shadow(0px 1px 2px rgba(0, 0, 0, 0.3));\n",
              "      fill: #FFFFFF;\n",
              "    }\n",
              "  </style>\n",
              "\n",
              "      <script>\n",
              "        const buttonEl =\n",
              "          document.querySelector('#df-142c388e-0494-40c3-9c48-e3250d383f93 button.colab-df-convert');\n",
              "        buttonEl.style.display =\n",
              "          google.colab.kernel.accessAllowed ? 'block' : 'none';\n",
              "\n",
              "        async function convertToInteractive(key) {\n",
              "          const element = document.querySelector('#df-142c388e-0494-40c3-9c48-e3250d383f93');\n",
              "          const dataTable =\n",
              "            await google.colab.kernel.invokeFunction('convertToInteractive',\n",
              "                                                     [key], {});\n",
              "          if (!dataTable) return;\n",
              "\n",
              "          const docLinkHtml = 'Like what you see? Visit the ' +\n",
              "            '<a target=\"_blank\" href=https://colab.research.google.com/notebooks/data_table.ipynb>data table notebook</a>'\n",
              "            + ' to learn more about interactive tables.';\n",
              "          element.innerHTML = '';\n",
              "          dataTable['output_type'] = 'display_data';\n",
              "          await google.colab.output.renderOutput(dataTable, element);\n",
              "          const docLink = document.createElement('div');\n",
              "          docLink.innerHTML = docLinkHtml;\n",
              "          element.appendChild(docLink);\n",
              "        }\n",
              "      </script>\n",
              "    </div>\n",
              "  </div>\n",
              "  "
            ],
            "text/plain": [
              "             Open   High    Low  Close  Agression        SMA    Return  \\\n",
              "Date                                                                     \n",
              "2015-10-15  11.22  11.42  11.11  11.24   327500.0  13.104722  0.027682   \n",
              "2015-10-30  11.32  11.54  11.11  11.40   281100.0  12.593611 -0.037307   \n",
              "2015-11-03  11.41  11.72  11.17  11.72   250700.0  12.542222 -0.028973   \n",
              "2015-11-23  11.26  11.52  11.17  11.32   173300.0  12.021667 -0.000000   \n",
              "2016-02-01   9.92  10.03   9.42   9.84   165600.0  10.677083  0.042802   \n",
              "\n",
              "                    mean           std  agression_high       cum  \n",
              "Date                                                              \n",
              "2015-10-15  52886.111111  71336.311804            True  0.027682  \n",
              "2015-10-30  57302.777778  76705.715255            True -0.009625  \n",
              "2015-11-03  59036.111111  79631.901926            True -0.038598  \n",
              "2015-11-23  55691.666667  76075.703123            True -0.038598  \n",
              "2016-02-01  55787.500000  71941.548922            True  0.004204  "
            ]
          },
          "metadata": {},
          "execution_count": 10
        }
      ]
    },
    {
      "cell_type": "code",
      "source": [
        "plt.rcParams['figure.figsize'] = [15, 8]\n",
        "plt.title(f'Resultado da Estratégia (venda)')\n",
        "plt.plot(final['cum'])\n",
        "plt.show()"
      ],
      "metadata": {
        "colab": {
          "base_uri": "https://localhost:8080/",
          "height": 499
        },
        "id": "_vu_7HfxRtL1",
        "outputId": "bb065c73-3a84-480e-eda4-8908e7a30aab"
      },
      "execution_count": 11,
      "outputs": [
        {
          "output_type": "display_data",
          "data": {
            "image/png": "[encoded data removed]",
            "text/plain": [
              "<Figure size 1080x576 with 1 Axes>"
            ]
          },
          "metadata": {
            "needs_background": "light"
          }
        }
      ]
    },
    {
      "cell_type": "code",
      "source": [
        ""
      ],
      "metadata": {
        "id": "4brm_pKcSGQC"
      },
      "execution_count": 11,
      "outputs": []
    }
  ]
}